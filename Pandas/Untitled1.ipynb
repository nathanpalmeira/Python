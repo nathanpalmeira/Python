{
 "cells": [
  {
   "cell_type": "code",
   "execution_count": 1,
   "metadata": {},
   "outputs": [],
   "source": [
    "import pandas as pd"
   ]
  },
  {
   "cell_type": "code",
   "execution_count": 4,
   "metadata": {},
   "outputs": [],
   "source": [
    "cop = pd.read_csv(\"copacabana.csv\", delimiter=';')"
   ]
  },
  {
   "cell_type": "code",
   "execution_count": 5,
   "metadata": {},
   "outputs": [
    {
     "data": {
      "text/plain": [
       "0       False\n",
       "1       False\n",
       "2       False\n",
       "3       False\n",
       "4       False\n",
       "5       False\n",
       "6       False\n",
       "7       False\n",
       "8       False\n",
       "9       False\n",
       "10      False\n",
       "11      False\n",
       "12      False\n",
       "13      False\n",
       "14      False\n",
       "15      False\n",
       "16      False\n",
       "17      False\n",
       "18      False\n",
       "19      False\n",
       "20      False\n",
       "21      False\n",
       "22      False\n",
       "23      False\n",
       "24      False\n",
       "25      False\n",
       "26      False\n",
       "27      False\n",
       "28      False\n",
       "29      False\n",
       "        ...  \n",
       "1645    False\n",
       "1646    False\n",
       "1647    False\n",
       "1648    False\n",
       "1649    False\n",
       "1650    False\n",
       "1651    False\n",
       "1652    False\n",
       "1653    False\n",
       "1654    False\n",
       "1655    False\n",
       "1656    False\n",
       "1657    False\n",
       "1658    False\n",
       "1659    False\n",
       "1660    False\n",
       "1661    False\n",
       "1662    False\n",
       "1663    False\n",
       "1664    False\n",
       "1665    False\n",
       "1666    False\n",
       "1667    False\n",
       "1668    False\n",
       "1669    False\n",
       "1670    False\n",
       "1671    False\n",
       "1672    False\n",
       "1673    False\n",
       "1674    False\n",
       "Name: Quartos, Length: 1675, dtype: bool"
      ]
     },
     "execution_count": 5,
     "metadata": {},
     "output_type": "execute_result"
    }
   ],
   "source": [
    "cop['Quartos']>5"
   ]
  },
  {
   "cell_type": "code",
   "execution_count": 6,
   "metadata": {},
   "outputs": [
    {
     "data": {
      "text/html": [
       "<div>\n",
       "<style scoped>\n",
       "    .dataframe tbody tr th:only-of-type {\n",
       "        vertical-align: middle;\n",
       "    }\n",
       "\n",
       "    .dataframe tbody tr th {\n",
       "        vertical-align: top;\n",
       "    }\n",
       "\n",
       "    .dataframe thead th {\n",
       "        text-align: right;\n",
       "    }\n",
       "</style>\n",
       "<table border=\"1\" class=\"dataframe\">\n",
       "  <thead>\n",
       "    <tr style=\"text-align: right;\">\n",
       "      <th></th>\n",
       "      <th>Posicao</th>\n",
       "      <th>Quartos</th>\n",
       "      <th>Vagas</th>\n",
       "      <th>DistIpanema</th>\n",
       "      <th>DistPraia</th>\n",
       "      <th>DistFavela</th>\n",
       "      <th>RendaMedia</th>\n",
       "      <th>RendaMovel</th>\n",
       "      <th>RendaMovelRua</th>\n",
       "      <th>Vu2009</th>\n",
       "      <th>Mes</th>\n",
       "      <th>Idade</th>\n",
       "      <th>Tipologia</th>\n",
       "      <th>AreaConstruida</th>\n",
       "      <th>VAL_UNIT</th>\n",
       "      <th>X</th>\n",
       "      <th>Y</th>\n",
       "    </tr>\n",
       "  </thead>\n",
       "  <tbody>\n",
       "    <tr>\n",
       "      <th>748</th>\n",
       "      <td>1</td>\n",
       "      <td>6.0</td>\n",
       "      <td>2.0</td>\n",
       "      <td>2500</td>\n",
       "      <td>35</td>\n",
       "      <td>743</td>\n",
       "      <td>1524600</td>\n",
       "      <td>1275377</td>\n",
       "      <td>1399989</td>\n",
       "      <td>4100</td>\n",
       "      <td>360</td>\n",
       "      <td>58.0</td>\n",
       "      <td>1</td>\n",
       "      <td>668</td>\n",
       "      <td>4491</td>\n",
       "      <td>686456.25</td>\n",
       "      <td>7458801.05</td>\n",
       "    </tr>\n",
       "  </tbody>\n",
       "</table>\n",
       "</div>"
      ],
      "text/plain": [
       "     Posicao  Quartos  Vagas  DistIpanema  DistPraia  DistFavela  RendaMedia  \\\n",
       "748        1      6.0    2.0         2500         35         743     1524600   \n",
       "\n",
       "     RendaMovel  RendaMovelRua  Vu2009  Mes  Idade  Tipologia  AreaConstruida  \\\n",
       "748     1275377        1399989    4100  360   58.0          1             668   \n",
       "\n",
       "     VAL_UNIT          X           Y  \n",
       "748      4491  686456.25  7458801.05  "
      ]
     },
     "execution_count": 6,
     "metadata": {},
     "output_type": "execute_result"
    }
   ],
   "source": [
    "cop.loc[cop['Quartos']==6]"
   ]
  },
  {
   "cell_type": "code",
   "execution_count": 7,
   "metadata": {},
   "outputs": [
    {
     "data": {
      "text/plain": [
       "0        416005\n",
       "1        460009\n",
       "2        720012\n",
       "3        990000\n",
       "4        909976\n",
       "5        790024\n",
       "6        670015\n",
       "7        249990\n",
       "8        319990\n",
       "9        299997\n",
       "10       390000\n",
       "11       299992\n",
       "12       410000\n",
       "13       749990\n",
       "14       625022\n",
       "15       619972\n",
       "16       309986\n",
       "17       340032\n",
       "18       760000\n",
       "19       870020\n",
       "20       250005\n",
       "21       340005\n",
       "22       210000\n",
       "23       139995\n",
       "24       270000\n",
       "25        90000\n",
       "26       350010\n",
       "27       450022\n",
       "28       329975\n",
       "29       210033\n",
       "         ...   \n",
       "1645     792984\n",
       "1646    1393956\n",
       "1647     810027\n",
       "1648    1800022\n",
       "1649     886990\n",
       "1650     969992\n",
       "1651     499968\n",
       "1652     560032\n",
       "1653     284984\n",
       "1654    2199998\n",
       "1655    2179944\n",
       "1656     300011\n",
       "1657     180000\n",
       "1658     280016\n",
       "1659     229992\n",
       "1660     342012\n",
       "1661     699996\n",
       "1662     710024\n",
       "1663    1320000\n",
       "1664     300024\n",
       "1665     700024\n",
       "1666     390000\n",
       "1667     434980\n",
       "1668     219996\n",
       "1669     639975\n",
       "1670     479940\n",
       "1671     402040\n",
       "1672     600020\n",
       "1673     766705\n",
       "1674     683871\n",
       "Length: 1675, dtype: int64"
      ]
     },
     "execution_count": 7,
     "metadata": {},
     "output_type": "execute_result"
    }
   ],
   "source": [
    "cop['AreaConstruida'] * cop['VAL_UNIT']"
   ]
  },
  {
   "cell_type": "code",
   "execution_count": 8,
   "metadata": {},
   "outputs": [],
   "source": [
    "cop[\"TOTAL\"] = cop['AreaConstruida'] * cop['VAL_UNIT']"
   ]
  },
  {
   "cell_type": "code",
   "execution_count": 9,
   "metadata": {},
   "outputs": [
    {
     "data": {
      "text/plain": [
       "0    416005\n",
       "1    460009\n",
       "2    720012\n",
       "3    990000\n",
       "4    909976\n",
       "Name: TOTAL, dtype: int64"
      ]
     },
     "execution_count": 9,
     "metadata": {},
     "output_type": "execute_result"
    }
   ],
   "source": [
    "cop[\"TOTAL\"].head()"
   ]
  },
  {
   "cell_type": "code",
   "execution_count": 10,
   "metadata": {},
   "outputs": [
    {
     "data": {
      "text/plain": [
       "1670    479940\n",
       "1671    402040\n",
       "1672    600020\n",
       "1673    766705\n",
       "1674    683871\n",
       "Name: TOTAL, dtype: int64"
      ]
     },
     "execution_count": 10,
     "metadata": {},
     "output_type": "execute_result"
    }
   ],
   "source": [
    "cop[\"TOTAL\"].tail()"
   ]
  },
  {
   "cell_type": "code",
   "execution_count": 11,
   "metadata": {},
   "outputs": [],
   "source": [
    "import pydataset"
   ]
  },
  {
   "cell_type": "code",
   "execution_count": 12,
   "metadata": {},
   "outputs": [],
   "source": [
    "titanic = pydataset.data('titanic')"
   ]
  },
  {
   "cell_type": "code",
   "execution_count": 13,
   "metadata": {},
   "outputs": [
    {
     "data": {
      "text/plain": [
       "Index(['class', 'age', 'sex', 'survived'], dtype='object')"
      ]
     },
     "execution_count": 13,
     "metadata": {},
     "output_type": "execute_result"
    }
   ],
   "source": [
    "titanic.columns"
   ]
  },
  {
   "cell_type": "code",
   "execution_count": 14,
   "metadata": {},
   "outputs": [
    {
     "data": {
      "text/plain": [
       "count          1316\n",
       "unique            3\n",
       "top       3rd class\n",
       "freq            706\n",
       "Name: class, dtype: object"
      ]
     },
     "execution_count": 14,
     "metadata": {},
     "output_type": "execute_result"
    }
   ],
   "source": [
    "titanic['class'].describe()"
   ]
  },
  {
   "cell_type": "code",
   "execution_count": 15,
   "metadata": {},
   "outputs": [
    {
     "data": {
      "text/plain": [
       "10528"
      ]
     },
     "execution_count": 15,
     "metadata": {},
     "output_type": "execute_result"
    }
   ],
   "source": [
    "titanic['class'].nbytes"
   ]
  },
  {
   "cell_type": "code",
   "execution_count": 19,
   "metadata": {},
   "outputs": [
    {
     "name": "stdout",
     "output_type": "stream",
     "text": [
      "CPU times: user 1.49 ms, sys: 1.91 ms, total: 3.41 ms\n",
      "Wall time: 14.5 ms\n"
     ]
    },
    {
     "data": {
      "text/plain": [
       "1       False\n",
       "2       False\n",
       "3       False\n",
       "4       False\n",
       "5       False\n",
       "6       False\n",
       "7       False\n",
       "8       False\n",
       "9       False\n",
       "10      False\n",
       "11      False\n",
       "12      False\n",
       "13      False\n",
       "14      False\n",
       "15      False\n",
       "16      False\n",
       "17      False\n",
       "18      False\n",
       "19      False\n",
       "20      False\n",
       "21      False\n",
       "22      False\n",
       "23      False\n",
       "24      False\n",
       "25      False\n",
       "26      False\n",
       "27      False\n",
       "28      False\n",
       "29      False\n",
       "30      False\n",
       "31      False\n",
       "32      False\n",
       "33      False\n",
       "34      False\n",
       "35      False\n",
       "36      False\n",
       "37      False\n",
       "38      False\n",
       "39      False\n",
       "40      False\n",
       "41      False\n",
       "42      False\n",
       "43      False\n",
       "44      False\n",
       "45      False\n",
       "46      False\n",
       "47      False\n",
       "48      False\n",
       "49      False\n",
       "50      False\n",
       "51      False\n",
       "52      False\n",
       "53      False\n",
       "54      False\n",
       "55      False\n",
       "56      False\n",
       "57      False\n",
       "58      False\n",
       "59      False\n",
       "60      False\n",
       "61      False\n",
       "62      False\n",
       "63      False\n",
       "64      False\n",
       "65      False\n",
       "66      False\n",
       "67      False\n",
       "68      False\n",
       "69      False\n",
       "70      False\n",
       "71      False\n",
       "72      False\n",
       "73      False\n",
       "74      False\n",
       "75      False\n",
       "76      False\n",
       "77      False\n",
       "78      False\n",
       "79      False\n",
       "80      False\n",
       "81      False\n",
       "82      False\n",
       "83      False\n",
       "84      False\n",
       "85      False\n",
       "        ...  \n",
       "1232     True\n",
       "1233     True\n",
       "1234     True\n",
       "1235     True\n",
       "1236     True\n",
       "1237     True\n",
       "1238     True\n",
       "1239     True\n",
       "1240     True\n",
       "1241     True\n",
       "1242     True\n",
       "1243     True\n",
       "1244     True\n",
       "1245     True\n",
       "1246     True\n",
       "1247     True\n",
       "1248     True\n",
       "1249     True\n",
       "1250     True\n",
       "1251     True\n",
       "1252     True\n",
       "1253     True\n",
       "1254     True\n",
       "1255     True\n",
       "1256     True\n",
       "1257     True\n",
       "1258     True\n",
       "1259     True\n",
       "1260     True\n",
       "1261     True\n",
       "1262     True\n",
       "1263     True\n",
       "1264     True\n",
       "1265     True\n",
       "1266     True\n",
       "1267     True\n",
       "1268     True\n",
       "1269     True\n",
       "1270     True\n",
       "1271     True\n",
       "1272     True\n",
       "1273     True\n",
       "1274     True\n",
       "1275     True\n",
       "1276     True\n",
       "1277     True\n",
       "1278     True\n",
       "1279     True\n",
       "1280     True\n",
       "1281     True\n",
       "1282     True\n",
       "1283     True\n",
       "1284     True\n",
       "1285     True\n",
       "1286     True\n",
       "1287     True\n",
       "1288     True\n",
       "1289     True\n",
       "1290     True\n",
       "1291     True\n",
       "1292     True\n",
       "1293     True\n",
       "1294     True\n",
       "1295     True\n",
       "1296     True\n",
       "1297     True\n",
       "1298     True\n",
       "1299     True\n",
       "1300     True\n",
       "1301     True\n",
       "1302     True\n",
       "1303     True\n",
       "1304     True\n",
       "1305     True\n",
       "1306     True\n",
       "1307     True\n",
       "1308     True\n",
       "1309     True\n",
       "1310     True\n",
       "1311     True\n",
       "1312     True\n",
       "1313     True\n",
       "1314     True\n",
       "1315     True\n",
       "1316     True\n",
       "Name: class, Length: 1316, dtype: bool"
      ]
     },
     "execution_count": 19,
     "metadata": {},
     "output_type": "execute_result"
    }
   ],
   "source": [
    "%%time\n",
    "titanic['class'] == '3rd class'"
   ]
  },
  {
   "cell_type": "code",
   "execution_count": 18,
   "metadata": {},
   "outputs": [],
   "source": [
    "titanic['class'] = titanic['class'].astype('category')"
   ]
  },
  {
   "cell_type": "code",
   "execution_count": null,
   "metadata": {},
   "outputs": [],
   "source": []
  }
 ],
 "metadata": {
  "kernelspec": {
   "display_name": "Python 3",
   "language": "python",
   "name": "python3"
  },
  "language_info": {
   "codemirror_mode": {
    "name": "ipython",
    "version": 3
   },
   "file_extension": ".py",
   "mimetype": "text/x-python",
   "name": "python",
   "nbconvert_exporter": "python",
   "pygments_lexer": "ipython3",
   "version": "3.6.4"
  }
 },
 "nbformat": 4,
 "nbformat_minor": 2
}
